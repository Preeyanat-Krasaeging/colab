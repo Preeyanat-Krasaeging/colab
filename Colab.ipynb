{
  "nbformat": 4,
  "nbformat_minor": 0,
  "metadata": {
    "colab": {
      "provenance": [],
      "authorship_tag": "ABX9TyOunTRJiGp5Xjf3sNK1BJjw",
      "include_colab_link": true
    },
    "kernelspec": {
      "name": "python3",
      "display_name": "Python 3"
    },
    "language_info": {
      "name": "python"
    }
  },
  "cells": [
    {
      "cell_type": "markdown",
      "metadata": {
        "id": "view-in-github",
        "colab_type": "text"
      },
      "source": [
        "<a href=\"https://colab.research.google.com/github/Preeyanat-Krasaeging/colab/blob/main/Colab.ipynb\" target=\"_parent\"><img src=\"https://colab.research.google.com/assets/colab-badge.svg\" alt=\"Open In Colab\"/></a>"
      ]
    },
    {
      "cell_type": "code",
      "execution_count": null,
      "metadata": {
        "colab": {
          "base_uri": "https://localhost:8080/"
        },
        "id": "-9w_Too6-0l6",
        "outputId": "34f93664-002e-41f7-bc24-d0e31830bb14"
      },
      "outputs": [
        {
          "output_type": "stream",
          "name": "stdout",
          "text": [
            "Hello World!\n"
          ]
        }
      ],
      "source": [
        "print(\"Hello World!\")"
      ]
    },
    {
      "cell_type": "markdown",
      "source": [
        "print string ใช้ได้ทั้ง **\"-\" ,'-'**\n",
        "\n",
        "การประกาศตัวแปร\n",
        "ชื่อตัวแปร = \"ค่าที่ต้องการจัดเก็บ\"\n",
        "\n",
        "**(#)ใช้คอมเมนต์**\n",
        "เช่น #This is comment\n",
        "\n",
        "แปลง(ตัวเลข)เป็น(ข้อความ)โดย **str(ตัวแปร)**"
      ],
      "metadata": {
        "id": "DH5qZqHoA9Pf"
      }
    },
    {
      "cell_type": "code",
      "source": [
        "print('single quote')"
      ],
      "metadata": {
        "colab": {
          "base_uri": "https://localhost:8080/"
        },
        "id": "j00i85Qv_mbN",
        "outputId": "12e4d592-2727-47b6-b7c8-99a2221c6ba3"
      },
      "execution_count": null,
      "outputs": [
        {
          "output_type": "stream",
          "name": "stdout",
          "text": [
            "single quote\n"
          ]
        }
      ]
    },
    {
      "cell_type": "code",
      "source": [
        "print(\"hello\" + \"world\")\n",
        "print(\"hello\" +\"\"+\"world\")\n",
        "print(\"hello\",\"world\",\"!\",\"R2DE\")"
      ],
      "metadata": {
        "colab": {
          "base_uri": "https://localhost:8080/"
        },
        "id": "x7KGRi8uAJh_",
        "outputId": "a9cc4435-5b57-4d35-9f52-64213d54a0bf"
      },
      "execution_count": null,
      "outputs": [
        {
          "output_type": "stream",
          "name": "stdout",
          "text": [
            "helloworld\n",
            "helloworld\n",
            "hello world ! R2DE\n"
          ]
        }
      ]
    },
    {
      "cell_type": "markdown",
      "source": [
        "int (Integer) เป็นข้อมูลประเภทจำนวนเต็ม"
      ],
      "metadata": {
        "id": "xm4HS_PJugae"
      }
    },
    {
      "cell_type": "code",
      "source": [
        "#int\n",
        "a=1\n",
        "print(a)"
      ],
      "metadata": {
        "colab": {
          "base_uri": "https://localhost:8080/"
        },
        "id": "04V_kStkCQeu",
        "outputId": "abb65041-f574-47b5-ddd6-6813f9db398a"
      },
      "execution_count": null,
      "outputs": [
        {
          "output_type": "stream",
          "name": "stdout",
          "text": [
            "1\n"
          ]
        }
      ]
    },
    {
      "cell_type": "code",
      "source": [
        "#float ค่าทศนิยม\n",
        "float(a)"
      ],
      "metadata": {
        "colab": {
          "base_uri": "https://localhost:8080/"
        },
        "id": "1GEiwli-Dq4f",
        "outputId": "27124c90-5996-4514-d58b-5b817bdcc458"
      },
      "execution_count": null,
      "outputs": [
        {
          "output_type": "execute_result",
          "data": {
            "text/plain": [
              "1.0"
            ]
          },
          "metadata": {},
          "execution_count": 6
        }
      ]
    },
    {
      "cell_type": "markdown",
      "source": [
        "str (String) เป็นข้อมูลประเภท\"ข้อความ\"\n",
        "\n",
        "สามารถแปลง ตัวเลขให้เป็นข้อความได้ด้วย str(ตัวแปร)"
      ],
      "metadata": {
        "id": "5BXjL1whv2VV"
      }
    },
    {
      "cell_type": "code",
      "source": [
        "#String\n",
        "str(a)"
      ],
      "metadata": {
        "colab": {
          "base_uri": "https://localhost:8080/",
          "height": 36
        },
        "id": "WkWP6npsDyxl",
        "outputId": "4ca16592-ec64-4cde-aed2-15d594507807"
      },
      "execution_count": null,
      "outputs": [
        {
          "output_type": "execute_result",
          "data": {
            "text/plain": [
              "'1'"
            ],
            "application/vnd.google.colaboratory.intrinsic+json": {
              "type": "string"
            }
          },
          "metadata": {},
          "execution_count": 7
        }
      ]
    },
    {
      "cell_type": "markdown",
      "source": [
        "การบวก string คือการนำ string สองอันมาต่อกัน (append)"
      ],
      "metadata": {
        "id": "6i4QSIoHv5lu"
      }
    },
    {
      "cell_type": "code",
      "source": [
        "#เป็นString\n",
        "str(a) + \"1\""
      ],
      "metadata": {
        "id": "sOSqWRY-D8_2",
        "colab": {
          "base_uri": "https://localhost:8080/",
          "height": 36
        },
        "outputId": "ba4843ae-14de-4ada-a547-2ca95a42a0b1"
      },
      "execution_count": null,
      "outputs": [
        {
          "output_type": "execute_result",
          "data": {
            "text/plain": [
              "'11'"
            ],
            "application/vnd.google.colaboratory.intrinsic+json": {
              "type": "string"
            }
          },
          "metadata": {},
          "execution_count": 8
        }
      ]
    },
    {
      "cell_type": "code",
      "source": [
        "#ตัวเลข เป็นint\n",
        "print(1+2+3)"
      ],
      "metadata": {
        "id": "nHujwP0ZD93e",
        "colab": {
          "base_uri": "https://localhost:8080/"
        },
        "outputId": "a6ae5bca-f25c-4084-d819-a61f70f5d8b3"
      },
      "execution_count": null,
      "outputs": [
        {
          "output_type": "stream",
          "name": "stdout",
          "text": [
            "6\n"
          ]
        }
      ]
    },
    {
      "cell_type": "markdown",
      "source": [
        "คำสั่ง type()เป็นคำสั่งที่ใช้ตรวจสอบประเภทตัวแปร ว่าเป็นตัวแปรประเภทอะไร"
      ],
      "metadata": {
        "id": "1E06lE3qEo71"
      }
    },
    {
      "cell_type": "code",
      "source": [
        "#Type ใช้ตรวจสอบคำสั่ง\n",
        "type(a)"
      ],
      "metadata": {
        "colab": {
          "base_uri": "https://localhost:8080/"
        },
        "id": "oeBSb7MyEB0-",
        "outputId": "7f33b0db-761b-405b-9093-e2007cfb650b"
      },
      "execution_count": null,
      "outputs": [
        {
          "output_type": "execute_result",
          "data": {
            "text/plain": [
              "int"
            ]
          },
          "metadata": {},
          "execution_count": 10
        }
      ]
    },
    {
      "cell_type": "code",
      "source": [
        "b = \"Python\"\n",
        "b"
      ],
      "metadata": {
        "colab": {
          "base_uri": "https://localhost:8080/",
          "height": 36
        },
        "id": "iRO573_vEQRW",
        "outputId": "de28a3ea-5237-415b-a9e9-dae667dfaf40"
      },
      "execution_count": null,
      "outputs": [
        {
          "output_type": "execute_result",
          "data": {
            "text/plain": [
              "'Python'"
            ],
            "application/vnd.google.colaboratory.intrinsic+json": {
              "type": "string"
            }
          },
          "metadata": {},
          "execution_count": 11
        }
      ]
    },
    {
      "cell_type": "markdown",
      "source": [
        "ถ้าไม่สามารถแปลงประเภทตัวแปรได้ จะขึ้นว่า ValueError"
      ],
      "metadata": {
        "id": "MYXDN9ZKxTp9"
      }
    },
    {
      "cell_type": "markdown",
      "source": [
        "# Python Data Structures\n",
        "\n",
        "### โครงสร้างข้อมูลที่ควรรู้จัก"
      ],
      "metadata": {
        "id": "CH6IdfthxnEd"
      }
    },
    {
      "cell_type": "markdown",
      "source": [
        "# List\n",
        "\n",
        "List เป็น data structure ที่ไว้เก็บข้อมูลเป็นลำดับ เหมือน array คือ จะเก็บข้อมูลไว้เป็นช่อง โดยจะมี index(หมายเลขประจำช่อง) เริ่มต้นที่ 0 และสามารถเพิ่มเติม (append) หรือแก้ไขข้อมูลใน list ได้ (mutable) ใช้สัญลักษณ์ [ ]แทน list"
      ],
      "metadata": {
        "id": "5ee6katDx3ks"
      }
    },
    {
      "cell_type": "code",
      "source": [
        "print(a,type(a))\n",
        "print(b,type(b))"
      ],
      "metadata": {
        "colab": {
          "base_uri": "https://localhost:8080/"
        },
        "id": "h8HzfroEFAMu",
        "outputId": "c62f3756-5dc9-4bf7-b76a-12a7e7cbc41a"
      },
      "execution_count": null,
      "outputs": [
        {
          "output_type": "stream",
          "name": "stdout",
          "text": [
            "1 <class 'int'>\n",
            "Python <class 'str'>\n"
          ]
        }
      ]
    },
    {
      "cell_type": "markdown",
      "source": [
        "การสร้าง list สร้างโดยใช้เครื่องหมาย [ ]"
      ],
      "metadata": {
        "id": "TyGhOGZnyzbN"
      }
    },
    {
      "cell_type": "code",
      "source": [
        "empty_list = []\n",
        "print(empty_list)"
      ],
      "metadata": {
        "colab": {
          "base_uri": "https://localhost:8080/"
        },
        "id": "aVWhJ5hiFLid",
        "outputId": "9a3553ed-2dee-449b-de76-a936d71e205d"
      },
      "execution_count": null,
      "outputs": [
        {
          "output_type": "stream",
          "name": "stdout",
          "text": [
            "[]\n"
          ]
        }
      ]
    },
    {
      "cell_type": "markdown",
      "source": [
        "การสร้าง list จากตัวแปรที่สร้างขึ้น"
      ],
      "metadata": {
        "id": "p7lICp-OFflu"
      }
    },
    {
      "cell_type": "code",
      "source": [
        "l=[b,a,a+1,a+2]\n",
        "l"
      ],
      "metadata": {
        "colab": {
          "base_uri": "https://localhost:8080/"
        },
        "id": "iazxVYWMFWd2",
        "outputId": "470a47b2-1977-40ff-c322-9163e14c4d50"
      },
      "execution_count": null,
      "outputs": [
        {
          "output_type": "execute_result",
          "data": {
            "text/plain": [
              "['Python', 1, 2, 3]"
            ]
          },
          "metadata": {},
          "execution_count": 14
        }
      ]
    },
    {
      "cell_type": "markdown",
      "source": [
        "การดูจำนวนสมาชิก(lenght) ของ list"
      ],
      "metadata": {
        "id": "1XdlliwVFrEc"
      }
    },
    {
      "cell_type": "code",
      "source": [
        "len(l)"
      ],
      "metadata": {
        "colab": {
          "base_uri": "https://localhost:8080/"
        },
        "id": "eoLxWoz0Fm_7",
        "outputId": "c5d04b6f-6f2e-454f-faf3-54169fe1386c"
      },
      "execution_count": null,
      "outputs": [
        {
          "output_type": "execute_result",
          "data": {
            "text/plain": [
              "4"
            ]
          },
          "metadata": {},
          "execution_count": 15
        }
      ]
    },
    {
      "cell_type": "markdown",
      "source": [
        "การเรียกดูค่า list ในเฉพาะบางช่อง"
      ],
      "metadata": {
        "id": "dadHmgg4zRQU"
      }
    },
    {
      "cell_type": "code",
      "source": [
        "l[3]"
      ],
      "metadata": {
        "id": "_-Gm0APCzIFd",
        "colab": {
          "base_uri": "https://localhost:8080/"
        },
        "outputId": "7727df27-1edb-43f2-f7ef-a3dcf4cf7745"
      },
      "execution_count": null,
      "outputs": [
        {
          "output_type": "execute_result",
          "data": {
            "text/plain": [
              "3"
            ]
          },
          "metadata": {},
          "execution_count": 16
        }
      ]
    },
    {
      "cell_type": "markdown",
      "source": [
        "การเปลี่ยนแปลง (assign)ค่า ในสมาชิกของ list"
      ],
      "metadata": {
        "id": "tg8faEyUGPr1"
      }
    },
    {
      "cell_type": "code",
      "source": [
        "l[3] = 5\n",
        "l"
      ],
      "metadata": {
        "colab": {
          "base_uri": "https://localhost:8080/"
        },
        "id": "puIvXNUcGKDW",
        "outputId": "490bbb7a-e6ab-43c9-c01a-fae3785f991b"
      },
      "execution_count": null,
      "outputs": [
        {
          "output_type": "execute_result",
          "data": {
            "text/plain": [
              "['Python', 1, 2, 5]"
            ]
          },
          "metadata": {},
          "execution_count": 17
        }
      ]
    },
    {
      "cell_type": "markdown",
      "source": [
        "ถ้าพยายามจะเปลี่ยนแปลงข้ออมูล โดยที่ index(เลขที่ใช้อ้างอิงลำดับ: เริ่มจาก 0 เสมอ) มีค่ามากกว่า"
      ],
      "metadata": {
        "id": "nugA2xY5zqr0"
      }
    },
    {
      "cell_type": "code",
      "source": [
        "#IndexError\n",
        "l[3] = \":)\""
      ],
      "metadata": {
        "id": "2PzqLCVVGUPW"
      },
      "execution_count": null,
      "outputs": []
    },
    {
      "cell_type": "markdown",
      "source": [
        "การเพิ่มสมาชิกของ list ต่อท้าย ใช้คำสั่ง append"
      ],
      "metadata": {
        "id": "bMIk2qFjGv0U"
      }
    },
    {
      "cell_type": "code",
      "source": [
        "l.append(\":)\")\n",
        "l"
      ],
      "metadata": {
        "colab": {
          "base_uri": "https://localhost:8080/"
        },
        "id": "dqHh9DWmGpuc",
        "outputId": "47647fdf-bb9f-4288-c75f-a6bafe879527"
      },
      "execution_count": null,
      "outputs": [
        {
          "output_type": "execute_result",
          "data": {
            "text/plain": [
              "['Python', 1, 2, ':)', ':)']"
            ]
          },
          "metadata": {},
          "execution_count": 19
        }
      ]
    },
    {
      "cell_type": "code",
      "source": [
        "len(l)"
      ],
      "metadata": {
        "colab": {
          "base_uri": "https://localhost:8080/"
        },
        "id": "guOI-Qe7G-Fe",
        "outputId": "eee739c8-95ff-4bdd-dd6c-6f4bc6b93e79"
      },
      "execution_count": null,
      "outputs": [
        {
          "output_type": "execute_result",
          "data": {
            "text/plain": [
              "5"
            ]
          },
          "metadata": {},
          "execution_count": 20
        }
      ]
    },
    {
      "cell_type": "markdown",
      "source": [
        "คำสั่ง pop()คือการ remove สมาชิกตัวสุดท้ายของ list"
      ],
      "metadata": {
        "id": "EmxIwhb_HYgk"
      }
    },
    {
      "cell_type": "code",
      "source": [
        "l.pop()\n",
        "l"
      ],
      "metadata": {
        "colab": {
          "base_uri": "https://localhost:8080/"
        },
        "id": "zjMRk9sNHJ-F",
        "outputId": "c2bc014b-53ae-4bcc-ae53-d7b1b616b18a"
      },
      "execution_count": null,
      "outputs": [
        {
          "output_type": "execute_result",
          "data": {
            "text/plain": [
              "['Python', 1, 2, ':)']"
            ]
          },
          "metadata": {},
          "execution_count": 21
        }
      ]
    },
    {
      "cell_type": "markdown",
      "source": [
        "# Tuple\n",
        "\n",
        "\n",
        "Tuple เป็น data structure ที่ไว้เก็บข้อมูลเป็นลำดับ (คล้ายกับlist) โดยจะมี index เริ่มต้นที่ 0 เช่นกัน แต่ *ไม่สามารถแก้ไข เปลี่ยนแปลงข้อมูลได้ (immutable) *ใช้สัญลักษณ์( ) แทน tuple ในการสร้าง"
      ],
      "metadata": {
        "id": "Cqp1C3hTH2ql"
      }
    },
    {
      "cell_type": "code",
      "source": [
        "t = (0,1,2,3,4)"
      ],
      "metadata": {
        "id": "cYTMeXl6HOk-"
      },
      "execution_count": null,
      "outputs": []
    },
    {
      "cell_type": "code",
      "source": [
        "len(t)"
      ],
      "metadata": {
        "colab": {
          "base_uri": "https://localhost:8080/"
        },
        "id": "0VcZn1uoHUjP",
        "outputId": "af8023a5-83e3-41d1-d6e2-5b69713c75d1"
      },
      "execution_count": null,
      "outputs": [
        {
          "output_type": "execute_result",
          "data": {
            "text/plain": [
              "5"
            ]
          },
          "metadata": {},
          "execution_count": 23
        }
      ]
    },
    {
      "cell_type": "code",
      "source": [
        "t[0:4]"
      ],
      "metadata": {
        "colab": {
          "base_uri": "https://localhost:8080/"
        },
        "id": "c9E9NQJRHtHV",
        "outputId": "4b850969-55e8-40e5-924f-bafa835ab0fa"
      },
      "execution_count": null,
      "outputs": [
        {
          "output_type": "execute_result",
          "data": {
            "text/plain": [
              "(0, 1, 2, 3)"
            ]
          },
          "metadata": {},
          "execution_count": 24
        }
      ]
    },
    {
      "cell_type": "markdown",
      "source": [
        "# การใช้เลข index(สำหรับ list, tuple และstring)\n",
        "ในlist, tuple และstring สามารถใช้ตัวเลข index เพื่อเข้าถึงสมาชิกได้ โดย index จะเริ่มจาก 0 และถึง len() -1 สามารถอ้างอิงเป็นช่วง ได้ด้วยเครื่องหมาย :(colon)โดยช่วงจะเริ่มจาก index ตัวแรก ถึง index ตัวสุดท้ายในช่วง -1 (ถ้าเว้นไว้คือถึงตัวสุดท้าย) และสามารถใช้เลข index ติดลบแทนการนับจากด้านหลังได้"
      ],
      "metadata": {
        "id": "3rFuWJn8IgEt"
      }
    },
    {
      "cell_type": "markdown",
      "source": [
        "การเข้าถึง ข้อมูลตัวสุดท้ายของ tuple"
      ],
      "metadata": {
        "id": "H02EcMj9H_-M"
      }
    },
    {
      "cell_type": "code",
      "source": [
        "t[-1]"
      ],
      "metadata": {
        "colab": {
          "base_uri": "https://localhost:8080/"
        },
        "id": "RnZYohjXH87e",
        "outputId": "31c8bd2f-e2f0-4ebd-9797-28f63b987d7f"
      },
      "execution_count": null,
      "outputs": [
        {
          "output_type": "execute_result",
          "data": {
            "text/plain": [
              "4"
            ]
          },
          "metadata": {},
          "execution_count": 25
        }
      ]
    },
    {
      "cell_type": "markdown",
      "source": [
        "การเข้าถึงข้อมูล ตัวที่สาม จากตัวท้ายสุด จนถึงตัวสุดท้าย"
      ],
      "metadata": {
        "id": "zrMD9LJUIHxN"
      }
    },
    {
      "cell_type": "code",
      "source": [
        "t[-3:]"
      ],
      "metadata": {
        "colab": {
          "base_uri": "https://localhost:8080/"
        },
        "id": "pgMJcWTkIQ6E",
        "outputId": "2e758b07-9a81-46d3-ab20-97ad10474446"
      },
      "execution_count": null,
      "outputs": [
        {
          "output_type": "execute_result",
          "data": {
            "text/plain": [
              "(2, 3, 4)"
            ]
          },
          "metadata": {},
          "execution_count": 26
        }
      ]
    },
    {
      "cell_type": "code",
      "source": [
        "t[:-3]"
      ],
      "metadata": {
        "colab": {
          "base_uri": "https://localhost:8080/"
        },
        "id": "L5pmE_yzI-od",
        "outputId": "b32b678e-c0a2-4c37-90ad-0f065dcc0ba9"
      },
      "execution_count": null,
      "outputs": [
        {
          "output_type": "execute_result",
          "data": {
            "text/plain": [
              "(0, 1)"
            ]
          },
          "metadata": {},
          "execution_count": 27
        }
      ]
    },
    {
      "cell_type": "markdown",
      "source": [
        "# Dictionary\n",
        "\n",
        "Dictionary เป็น data structure ที่เก็บในลักษณะ key-value ใช้สัญลักษณ์{} แทน dictionary ในการสร้าง\n",
        "\n",
        " เช่น dict = {\"key\":\"value\"} หรือ\n",
        "\n",
        " dict = {} เพื่อสร้าง dict เปล่า"
      ],
      "metadata": {
        "id": "WeeYOI9mJZKM"
      }
    },
    {
      "cell_type": "markdown",
      "source": [
        "การสร้าง grade dictionary สำหรับการตัดเกรด"
      ],
      "metadata": {
        "id": "bX7-rGCfJlbE"
      }
    },
    {
      "cell_type": "code",
      "source": [
        "grade = {\n",
        "    \"A\" : 80,\n",
        "    \"B\" : 70,\n",
        "    \"C\" : 60,\n",
        "    \"D\" : 50,\n",
        "}\n",
        "grade"
      ],
      "metadata": {
        "colab": {
          "base_uri": "https://localhost:8080/"
        },
        "id": "azWSTTKxJG8u",
        "outputId": "6d4a58ae-52fb-4649-e4fd-fb46ba7e33d0"
      },
      "execution_count": null,
      "outputs": [
        {
          "output_type": "execute_result",
          "data": {
            "text/plain": [
              "{'A': 80, 'B': 70, 'C': 60, 'D': 50}"
            ]
          },
          "metadata": {},
          "execution_count": 91
        }
      ]
    },
    {
      "cell_type": "code",
      "source": [
        "grade[\"A\"]"
      ],
      "metadata": {
        "colab": {
          "base_uri": "https://localhost:8080/"
        },
        "id": "Bm2O88BrJu0s",
        "outputId": "52c74dc6-a64b-47bf-ebfa-c43baa1d413b"
      },
      "execution_count": null,
      "outputs": [
        {
          "output_type": "execute_result",
          "data": {
            "text/plain": [
              "80"
            ]
          },
          "metadata": {},
          "execution_count": 62
        }
      ]
    },
    {
      "cell_type": "code",
      "source": [
        "#เพิ่มB+เข้ามา\n",
        "grade[\"B+\"] = 75\n",
        "grade"
      ],
      "metadata": {
        "colab": {
          "base_uri": "https://localhost:8080/"
        },
        "id": "1pLdWohIJyaN",
        "outputId": "48212012-27b1-4673-d353-0216a4fb2c40"
      },
      "execution_count": null,
      "outputs": [
        {
          "output_type": "execute_result",
          "data": {
            "text/plain": [
              "{'A': 80, 'B': 70, 'C': 60, 'D': 50, 'B+': 75}"
            ]
          },
          "metadata": {},
          "execution_count": 92
        }
      ]
    },
    {
      "cell_type": "markdown",
      "source": [
        "การสร้าง dictionary ว่าง และเพิ่มหรืออัปเดตค่า key-value"
      ],
      "metadata": {
        "id": "7rhkTr4fKN_c"
      }
    },
    {
      "cell_type": "code",
      "source": [
        "d = {}\n",
        "d[\"s001\"] = \"Perth\"\n",
        "d[\"s002\"] = \"Fon\""
      ],
      "metadata": {
        "id": "Gzhuh6ocKA-k"
      },
      "execution_count": null,
      "outputs": []
    },
    {
      "cell_type": "code",
      "source": [
        "d[\"s001\"]"
      ],
      "metadata": {
        "colab": {
          "base_uri": "https://localhost:8080/",
          "height": 36
        },
        "id": "JmiQtAPFKbvF",
        "outputId": "631ac7cf-b8d3-4d3c-a15d-83f09c5c96f7"
      },
      "execution_count": null,
      "outputs": [
        {
          "output_type": "execute_result",
          "data": {
            "text/plain": [
              "'Perth'"
            ],
            "application/vnd.google.colaboratory.intrinsic+json": {
              "type": "string"
            }
          },
          "metadata": {},
          "execution_count": 32
        }
      ]
    },
    {
      "cell_type": "markdown",
      "source": [
        "# Python String\n",
        "\n",
        "String สำหรับเก็บตัวแปรประเภทข้อความ สามารถเข้าถึงด้วย index ได้เหมือนกับ list สามารถต่อเชื่อม  string หลายๆ string ด้วย เครื่องหมายstring + หรือ join()ในกรณีที่เป็น list และมีฟังก์ชันอื่นๆ ที่เกี่ยวกับ string อีกมากมาย เช่น\n",
        "\n",
        "\n",
        "*   split() การแยก string ด้วย symbol ผลลัพธ์ของการรันจะออกมาเป็น list\n",
        "*   strip() การลบช่องว่างที่อยู่หน้าหรือหลังสุด\n",
        "\n"
      ],
      "metadata": {
        "id": "YIiVbW1I1A0e"
      }
    },
    {
      "cell_type": "code",
      "source": [
        "sentence = \" Hello Python. I am ready\""
      ],
      "metadata": {
        "id": "EiOO_GmeKg2s"
      },
      "execution_count": null,
      "outputs": []
    },
    {
      "cell_type": "markdown",
      "source": [
        "String จะคล้ายคลึงกับ list ตรงที่สามารถ ดูค่าตาม index ที่ระบุตำแหน่งนั้นได้"
      ],
      "metadata": {
        "id": "vpP5gfsiKyTc"
      }
    },
    {
      "cell_type": "code",
      "source": [
        "#เพราะด้านหน้าH มีช่องว่าง\n",
        "sentence[1]"
      ],
      "metadata": {
        "colab": {
          "base_uri": "https://localhost:8080/",
          "height": 36
        },
        "id": "bAP9FY4nKsw0",
        "outputId": "c60e8455-93b7-492c-b60f-2208d1c3198a"
      },
      "execution_count": null,
      "outputs": [
        {
          "output_type": "execute_result",
          "data": {
            "text/plain": [
              "'H'"
            ],
            "application/vnd.google.colaboratory.intrinsic+json": {
              "type": "string"
            }
          },
          "metadata": {},
          "execution_count": 34
        }
      ]
    },
    {
      "cell_type": "markdown",
      "source": [
        "การตัดบางช่วงของ string โดยใช้เครื่องหมาย : ควบคู่กับ index ดังนี้ เริ่มต้น: ตัวสุดท้าย+1"
      ],
      "metadata": {
        "id": "fzONDg_p4UU0"
      }
    },
    {
      "cell_type": "code",
      "source": [
        "sentence[1:13]"
      ],
      "metadata": {
        "colab": {
          "base_uri": "https://localhost:8080/",
          "height": 36
        },
        "id": "ntH9hyrzK-aM",
        "outputId": "72b2739b-213d-4e64-a674-1b6863f68054"
      },
      "execution_count": null,
      "outputs": [
        {
          "output_type": "execute_result",
          "data": {
            "text/plain": [
              "'Hello Python'"
            ],
            "application/vnd.google.colaboratory.intrinsic+json": {
              "type": "string"
            }
          },
          "metadata": {},
          "execution_count": 35
        }
      ]
    },
    {
      "cell_type": "markdown",
      "source": [
        "strip คือการลบช่องว่าง หัวท้าย"
      ],
      "metadata": {
        "id": "yAmdlibdLsLl"
      }
    },
    {
      "cell_type": "code",
      "source": [
        "sentence.strip()"
      ],
      "metadata": {
        "colab": {
          "base_uri": "https://localhost:8080/",
          "height": 36
        },
        "id": "M1Owd90NLLKm",
        "outputId": "3f0ab7de-ca49-4080-fa8c-43f647511af6"
      },
      "execution_count": null,
      "outputs": [
        {
          "output_type": "execute_result",
          "data": {
            "text/plain": [
              "'Hello Python. I am ready'"
            ],
            "application/vnd.google.colaboratory.intrinsic+json": {
              "type": "string"
            }
          },
          "metadata": {},
          "execution_count": 36
        }
      ]
    },
    {
      "cell_type": "code",
      "source": [
        "list_of_words = sentence.strip().split(' ')"
      ],
      "metadata": {
        "id": "xx5i1ReVLS1E"
      },
      "execution_count": null,
      "outputs": []
    },
    {
      "cell_type": "code",
      "source": [
        "corgi = ''.join(list_of_words)\n",
        "corgi"
      ],
      "metadata": {
        "colab": {
          "base_uri": "https://localhost:8080/",
          "height": 36
        },
        "id": "nc3tWHn_LgMd",
        "outputId": "e2dc984e-b827-46d5-f032-ae36b0e71678"
      },
      "execution_count": null,
      "outputs": [
        {
          "output_type": "execute_result",
          "data": {
            "text/plain": [
              "'HelloPython.Iamready'"
            ],
            "application/vnd.google.colaboratory.intrinsic+json": {
              "type": "string"
            }
          },
          "metadata": {},
          "execution_count": 39
        }
      ]
    },
    {
      "cell_type": "markdown",
      "source": [
        "# Loop and Condition"
      ],
      "metadata": {
        "id": "_MeseMnr4x9E"
      }
    },
    {
      "cell_type": "markdown",
      "source": [
        "### For loop\n",
        "ในภาษา Python สามารถวน for loop ตามสมาชิกแต่ละตัวใน object ที่มีลักษณะเป็น list ได้ โดยการวน loop มีการใช้งานดังนี้"
      ],
      "metadata": {
        "id": "gO0tUwWYNEhM"
      }
    },
    {
      "cell_type": "code",
      "source": [
        "for temp_var in list_or_range:\n",
        "  do_something1()\n",
        "  do_something2()"
      ],
      "metadata": {
        "id": "QduY-g9wOSin"
      },
      "execution_count": null,
      "outputs": []
    },
    {
      "cell_type": "markdown",
      "source": [
        "สังเกตว่าบรรทัดหลังจาก for จะมีการ tab (เว้น 4 วรรค) อยู่ด้านหน้า เพื่อเป็นการจัด scope ของ for loop นั้น"
      ],
      "metadata": {
        "id": "QBrCn9De5Sb1"
      }
    },
    {
      "cell_type": "code",
      "source": [
        "#ทบทวนตัวแปร l ตัวเดิม\n",
        "l"
      ],
      "metadata": {
        "colab": {
          "base_uri": "https://localhost:8080/"
        },
        "id": "Yf8T4lKZMk7s",
        "outputId": "9ab74f5f-5e98-4ed3-ddac-fb4896e23f7b"
      },
      "execution_count": null,
      "outputs": [
        {
          "output_type": "execute_result",
          "data": {
            "text/plain": [
              "['Python', 1, 2, ':)']"
            ]
          },
          "metadata": {},
          "execution_count": 44
        }
      ]
    },
    {
      "cell_type": "code",
      "source": [
        "for item in l:\n",
        "  print(item)"
      ],
      "metadata": {
        "colab": {
          "base_uri": "https://localhost:8080/"
        },
        "id": "gbmnLciSMxr9",
        "outputId": "baa3ec05-fea5-40b4-990e-b814781caf31"
      },
      "execution_count": null,
      "outputs": [
        {
          "output_type": "stream",
          "name": "stdout",
          "text": [
            "Python\n",
            "1\n",
            "2\n",
            ":)\n"
          ]
        }
      ]
    },
    {
      "cell_type": "code",
      "source": [
        "for i in range(10):\n",
        "  print(i)"
      ],
      "metadata": {
        "colab": {
          "base_uri": "https://localhost:8080/"
        },
        "id": "JcWQRan7NS2e",
        "outputId": "b7fc5424-52c7-4f33-80f4-21b7af00d46a"
      },
      "execution_count": null,
      "outputs": [
        {
          "output_type": "stream",
          "name": "stdout",
          "text": [
            "0\n",
            "1\n",
            "2\n",
            "3\n",
            "4\n",
            "5\n",
            "6\n",
            "7\n",
            "8\n",
            "9\n"
          ]
        }
      ]
    },
    {
      "cell_type": "code",
      "source": [
        "t"
      ],
      "metadata": {
        "colab": {
          "base_uri": "https://localhost:8080/"
        },
        "id": "0exKCKNcNhyt",
        "outputId": "d7be27c2-a692-471d-d2dc-e448c707d7fb"
      },
      "execution_count": null,
      "outputs": [
        {
          "output_type": "execute_result",
          "data": {
            "text/plain": [
              "(0, 1, 2, 3, 4)"
            ]
          },
          "metadata": {},
          "execution_count": 47
        }
      ]
    },
    {
      "cell_type": "markdown",
      "source": [
        "# List Comprehension\n",
        "\n",
        "การวน for loop เพื่อที่จะได้ output ออกมาเป็น list สามารถวนลูปไปในสมาชิกแต่ละตัว ได้ภายใน 1 บรรทัด แบบย่อ เทคนิคนี้เรียกว่า list comprehension"
      ],
      "metadata": {
        "id": "yifxtLL5OFEt"
      }
    },
    {
      "cell_type": "code",
      "source": [
        "#List Comprehension\n",
        "list_t = [i for i in t]"
      ],
      "metadata": {
        "id": "52y1pXomNlek"
      },
      "execution_count": null,
      "outputs": []
    },
    {
      "cell_type": "markdown",
      "source": [
        "ดับเบิลคลิก(หรือกดEnter) เพื่อแก้ไข"
      ],
      "metadata": {
        "id": "jKRLlD1VN07d"
      }
    },
    {
      "cell_type": "code",
      "source": [
        "[i + 1 for i in range(100)]"
      ],
      "metadata": {
        "colab": {
          "base_uri": "https://localhost:8080/"
        },
        "id": "XWSVZQJBNrd8",
        "outputId": "d946678c-8df9-4211-f7a5-9b52b4c2fe61"
      },
      "execution_count": null,
      "outputs": [
        {
          "output_type": "execute_result",
          "data": {
            "text/plain": [
              "[1,\n",
              " 2,\n",
              " 3,\n",
              " 4,\n",
              " 5,\n",
              " 6,\n",
              " 7,\n",
              " 8,\n",
              " 9,\n",
              " 10,\n",
              " 11,\n",
              " 12,\n",
              " 13,\n",
              " 14,\n",
              " 15,\n",
              " 16,\n",
              " 17,\n",
              " 18,\n",
              " 19,\n",
              " 20,\n",
              " 21,\n",
              " 22,\n",
              " 23,\n",
              " 24,\n",
              " 25,\n",
              " 26,\n",
              " 27,\n",
              " 28,\n",
              " 29,\n",
              " 30,\n",
              " 31,\n",
              " 32,\n",
              " 33,\n",
              " 34,\n",
              " 35,\n",
              " 36,\n",
              " 37,\n",
              " 38,\n",
              " 39,\n",
              " 40,\n",
              " 41,\n",
              " 42,\n",
              " 43,\n",
              " 44,\n",
              " 45,\n",
              " 46,\n",
              " 47,\n",
              " 48,\n",
              " 49,\n",
              " 50,\n",
              " 51,\n",
              " 52,\n",
              " 53,\n",
              " 54,\n",
              " 55,\n",
              " 56,\n",
              " 57,\n",
              " 58,\n",
              " 59,\n",
              " 60,\n",
              " 61,\n",
              " 62,\n",
              " 63,\n",
              " 64,\n",
              " 65,\n",
              " 66,\n",
              " 67,\n",
              " 68,\n",
              " 69,\n",
              " 70,\n",
              " 71,\n",
              " 72,\n",
              " 73,\n",
              " 74,\n",
              " 75,\n",
              " 76,\n",
              " 77,\n",
              " 78,\n",
              " 79,\n",
              " 80,\n",
              " 81,\n",
              " 82,\n",
              " 83,\n",
              " 84,\n",
              " 85,\n",
              " 86,\n",
              " 87,\n",
              " 88,\n",
              " 89,\n",
              " 90,\n",
              " 91,\n",
              " 92,\n",
              " 93,\n",
              " 94,\n",
              " 95,\n",
              " 96,\n",
              " 97,\n",
              " 98,\n",
              " 99,\n",
              " 100]"
            ]
          },
          "metadata": {},
          "execution_count": 49
        }
      ]
    },
    {
      "cell_type": "markdown",
      "source": [
        "# If condition\n",
        "\n",
        "if condition จะทำตามเงื่อนไขต่อเมื่อเป็นจริงเท่านั้น\n",
        "\n",
        "elif (else if) คือ เงื่อนไขรอง หาก if แรกไม่เป็นจริง มีกี่อันก็ได้\n",
        "\n",
        "ถ้าไม่ตรงกรณีไหนเลยจะทำ else (else if และ else สามารถไม่มี)"
      ],
      "metadata": {
        "id": "hD4mNDjcOqcF"
      }
    },
    {
      "cell_type": "code",
      "source": [
        "if len(t) == 5:\n",
        "  print('length is 5')\n",
        "else:\n",
        "  print('length not equals 5')"
      ],
      "metadata": {
        "colab": {
          "base_uri": "https://localhost:8080/"
        },
        "id": "A3kewJscOKtF",
        "outputId": "ba549601-5c2b-4bb9-aa50-30847ea869f9"
      },
      "execution_count": null,
      "outputs": [
        {
          "output_type": "stream",
          "name": "stdout",
          "text": [
            "length is 5\n"
          ]
        }
      ]
    },
    {
      "cell_type": "markdown",
      "source": [
        "'ตัวอย่างโค้ดการตัดเกรด จากตัวแปรscore"
      ],
      "metadata": {
        "id": "nIfYkchWO4RV"
      }
    },
    {
      "cell_type": "code",
      "source": [
        "grade"
      ],
      "metadata": {
        "colab": {
          "base_uri": "https://localhost:8080/"
        },
        "id": "QCenrAIlO27l",
        "outputId": "686739bf-ffd0-46f2-f5d2-d68e8e951150"
      },
      "execution_count": null,
      "outputs": [
        {
          "output_type": "execute_result",
          "data": {
            "text/plain": [
              "{'A': 80, 'B': 70, 'C': 60, 'D': 50, 'B+': 75}"
            ]
          },
          "metadata": {},
          "execution_count": 93
        }
      ]
    },
    {
      "cell_type": "code",
      "source": [
        "score = 75\n",
        "if score >= grade[\"A\"]:\n",
        "  print(\"A\")\n",
        "  print(\"Good Job!\")\n",
        "elif score >= grade[\"B+\"]:\n",
        "  print(\"B+\")\n",
        "elif score >= grade[\"B\"]:\n",
        "  print(\"B\")\n",
        "elif score >= grade[\"C\"]:\n",
        "  print(\"C\")\n",
        "elif score >= grade[\"D\"]:\n",
        "  print(\"D\")\n",
        "else:\n",
        "  print(\"F\")\n"
      ],
      "metadata": {
        "colab": {
          "base_uri": "https://localhost:8080/"
        },
        "id": "26gagTpTPMKb",
        "outputId": "26406896-9784-437c-c130-e86b9adf6415"
      },
      "execution_count": null,
      "outputs": [
        {
          "output_type": "stream",
          "name": "stdout",
          "text": [
            "B+\n"
          ]
        }
      ]
    },
    {
      "cell_type": "markdown",
      "source": [
        "# Math\n",
        "Package สำหรับคำนวณตัวเลข เช่น Log,Exponential และใช้เรียกค่าสำคัญทางคณิตศาสตร์ เช่น Pi"
      ],
      "metadata": {
        "id": "kHFG5MKWH4y2"
      }
    },
    {
      "cell_type": "code",
      "source": [
        "import math\n",
        "math.pi"
      ],
      "metadata": {
        "colab": {
          "base_uri": "https://localhost:8080/"
        },
        "id": "VCsSS4dgHsuX",
        "outputId": "22ebb79e-f53d-4760-86ec-3c556ceed519"
      },
      "execution_count": null,
      "outputs": [
        {
          "output_type": "execute_result",
          "data": {
            "text/plain": [
              "3.141592653589793"
            ]
          },
          "metadata": {},
          "execution_count": 67
        }
      ]
    },
    {
      "cell_type": "markdown",
      "source": [
        "นอกจากการimport แบบตรง สามารถ import เฉพาะตัวแปร หรือfuntion ได้เช่นกัน โดยใช้ from[ชื่อ package] import [ชื่อ funtion หรือตัวแปรที่ต้องการ import]"
      ],
      "metadata": {
        "id": "G5VlJ1aEoAfW"
      }
    },
    {
      "cell_type": "code",
      "source": [
        "from math import pi\n",
        "\n",
        "pi"
      ],
      "metadata": {
        "colab": {
          "base_uri": "https://localhost:8080/"
        },
        "id": "JyZqm3r-INz_",
        "outputId": "c8263d69-6c6d-4771-89f0-9d4499ac9e53"
      },
      "execution_count": null,
      "outputs": [
        {
          "output_type": "execute_result",
          "data": {
            "text/plain": [
              "3.141592653589793"
            ]
          },
          "metadata": {},
          "execution_count": 68
        }
      ]
    },
    {
      "cell_type": "markdown",
      "source": [
        "# Datetime"
      ],
      "metadata": {
        "id": "aSA6p6jBIugP"
      }
    },
    {
      "cell_type": "markdown",
      "source": [
        "Datatime เป็น Package สำหรับจัดการข้อมูลวันเวลา เช่น เวลาในแต่ละ TimeZone,ดึงวันเวลาในวันนี้โดยทั่วไป เวลามักเป็นเวลา UTC (Universal Time Coordinated)คือเป็นเวลามาตรฐานโลก ไม่อิงตาม timezone\n",
        "เวลาประเทศไทย จะเป็นเวลาที่เรียกว่า lndochina Time (ICT) คือ เป็นเวลา UTC+ 7ชั่วโมง"
      ],
      "metadata": {
        "id": "95i3cgbsoy12"
      }
    },
    {
      "cell_type": "code",
      "source": [
        "import datetime\n",
        "\n",
        "now = datetime.datetime.now()\n",
        "now"
      ],
      "metadata": {
        "colab": {
          "base_uri": "https://localhost:8080/"
        },
        "id": "3qSpY2FJIZmn",
        "outputId": "fdfbf752-2585-4ac5-e41a-3d1ff9e6fa5b"
      },
      "execution_count": null,
      "outputs": [
        {
          "output_type": "execute_result",
          "data": {
            "text/plain": [
              "datetime.datetime(2025, 1, 30, 17, 24, 19, 937149)"
            ]
          },
          "metadata": {},
          "execution_count": 69
        }
      ]
    },
    {
      "cell_type": "markdown",
      "source": [
        "isoformat คือ format มาตรฐานที่นิยมใช้ใน timestamp ที่เก็บไว้บน database / data warehouse"
      ],
      "metadata": {
        "id": "4D9QLTuCp2Ol"
      }
    },
    {
      "cell_type": "code",
      "source": [
        "now.isoformat"
      ],
      "metadata": {
        "colab": {
          "base_uri": "https://localhost:8080/"
        },
        "id": "_jtyMcYzIplA",
        "outputId": "6fc6ca6c-0a57-4a84-9761-bb7ac4a07ce2"
      },
      "execution_count": null,
      "outputs": [
        {
          "output_type": "execute_result",
          "data": {
            "text/plain": [
              "<function datetime.isoformat>"
            ]
          },
          "metadata": {},
          "execution_count": 70
        }
      ]
    },
    {
      "cell_type": "markdown",
      "source": [
        "การเรียกดูเวลาปัจจุบัน"
      ],
      "metadata": {
        "id": "l33xwKz_qM20"
      }
    },
    {
      "cell_type": "code",
      "source": [
        "today = datetime.date.today()\n",
        "today"
      ],
      "metadata": {
        "colab": {
          "base_uri": "https://localhost:8080/"
        },
        "id": "sEoZMUm3IySu",
        "outputId": "857a4a93-abca-4543-9623-8bb06848ff41"
      },
      "execution_count": null,
      "outputs": [
        {
          "output_type": "execute_result",
          "data": {
            "text/plain": [
              "datetime.date(2025, 1, 30)"
            ]
          },
          "metadata": {},
          "execution_count": 71
        }
      ]
    },
    {
      "cell_type": "markdown",
      "source": [
        "รูปแบบมาตรฐานของ data คือ YYYY-mm-dd"
      ],
      "metadata": {
        "id": "y3FbiPW3qUVN"
      }
    },
    {
      "cell_type": "code",
      "source": [
        "today.isoformat()"
      ],
      "metadata": {
        "colab": {
          "base_uri": "https://localhost:8080/",
          "height": 36
        },
        "id": "UagAYm6pI74G",
        "outputId": "0f0bd0aa-bc9c-49bc-fbad-779f6385eafa"
      },
      "execution_count": null,
      "outputs": [
        {
          "output_type": "execute_result",
          "data": {
            "text/plain": [
              "'2025-01-30'"
            ],
            "application/vnd.google.colaboratory.intrinsic+json": {
              "type": "string"
            }
          },
          "metadata": {},
          "execution_count": 72
        }
      ]
    },
    {
      "cell_type": "markdown",
      "source": [],
      "metadata": {
        "id": "qcZBVl5vqdDF"
      }
    },
    {
      "cell_type": "markdown",
      "source": [
        "# Simple function\n",
        "Function คือ การกำหนดการคำนวณที่ใช้ซ้ำบ่อยๆ เพื่อให้เรียกใช้ได้สะดวกในการเรียกใช้Function ผู้ใช้ส่งตัวแปรเข้ามากี่ตัวก็ได้ (เรียกว่า argument หรือ parameter)เช่น height และ width และสามารถกำหนดค่าในกรณีที่ผู้ใช้ใส่ตัวแปรใน parameter มาไม่ครบ เรียกว่า default parameter (ในตัวอย่างเช่น rate ตัวแปรค่าเงินที่สามารถกำหนดค่า default ได้)การ return คือการ คืนค่าออกไปเพื่อเป็นผลลัพธ์ของ function\n",
        "\n",
        "parameter ของ function คือ ตัวแปรรับเข้าที่เปลี่ยนค่าได้"
      ],
      "metadata": {
        "id": "G-0fDPdNJG0u"
      }
    },
    {
      "cell_type": "code",
      "source": [
        "def circle_area(radius):\n",
        "  return pi*radius*radius\n",
        "\n",
        "circle_area(4)"
      ],
      "metadata": {
        "colab": {
          "base_uri": "https://localhost:8080/"
        },
        "id": "w50qQbUyJLHP",
        "outputId": "0dfc4d0c-31cb-4af3-ffc6-e5815bcc0d21"
      },
      "execution_count": null,
      "outputs": [
        {
          "output_type": "execute_result",
          "data": {
            "text/plain": [
              "50.26548245743669"
            ]
          },
          "metadata": {},
          "execution_count": 73
        }
      ]
    },
    {
      "cell_type": "code",
      "source": [
        "def rectsngle_area(height, width):\n",
        "  return height*width\n",
        "\n",
        "rectsngle_area(4,5)"
      ],
      "metadata": {
        "colab": {
          "base_uri": "https://localhost:8080/"
        },
        "id": "oFD9F0s6JnRw",
        "outputId": "d81e344d-84fc-489d-fffd-a39a4183c7a1"
      },
      "execution_count": null,
      "outputs": [
        {
          "output_type": "execute_result",
          "data": {
            "text/plain": [
              "20"
            ]
          },
          "metadata": {},
          "execution_count": 74
        }
      ]
    },
    {
      "cell_type": "markdown",
      "source": [
        "สร้างฟังก์ชันเพื่อแปลงค่าเงิน โดย rate จะมี default parameter อยู่ที่ 31.33"
      ],
      "metadata": {
        "id": "qKfvh5_3LbhW"
      }
    },
    {
      "cell_type": "code",
      "source": [
        "def conversion(amount, rate=31.33):\n",
        "  return amount * rate\n",
        "\n",
        "conversion(30)\n"
      ],
      "metadata": {
        "colab": {
          "base_uri": "https://localhost:8080/"
        },
        "id": "o6rBqVTALHDn",
        "outputId": "26293cff-fb42-4ad0-adf2-995af631b2cd"
      },
      "execution_count": null,
      "outputs": [
        {
          "output_type": "execute_result",
          "data": {
            "text/plain": [
              "939.9"
            ]
          },
          "metadata": {},
          "execution_count": 75
        }
      ]
    },
    {
      "cell_type": "markdown",
      "source": [
        "แต่สามารถปรับเปลี่ยนค่า rate ได้เหมือนฟังก์ชันปกติ ถ้าเกิดมีการใส่ rate มา"
      ],
      "metadata": {
        "id": "0F65TK_jqi-V"
      }
    },
    {
      "cell_type": "code",
      "source": [
        "conversion(30, 34.3333)"
      ],
      "metadata": {
        "colab": {
          "base_uri": "https://localhost:8080/"
        },
        "id": "VbFnmCWTL3v_",
        "outputId": "103b7b60-f76c-4606-d383-8a320aba90f8"
      },
      "execution_count": null,
      "outputs": [
        {
          "output_type": "execute_result",
          "data": {
            "text/plain": [
              "1029.999"
            ]
          },
          "metadata": {},
          "execution_count": 76
        }
      ]
    },
    {
      "cell_type": "markdown",
      "source": [
        "# Working with files การทำงานร่วมกับไฟล์"
      ],
      "metadata": {
        "id": "ZDXP3z3tM_ue"
      }
    },
    {
      "cell_type": "markdown",
      "source": [
        "การเขียนไฟล์ จะใช้คำสั่ง open เพื่อเปิดไฟล์ และเขียนไฟล์ลงไป\n",
        "\n",
        "'w' ข้างหลัง (write) คือ โหมดดของการเปิดไฟล์แบบเขียน ซึ่งจะสร้างไฟล์ใหม่ขึ้นมาเพื่อเขียน"
      ],
      "metadata": {
        "id": "nMam3pDPqwx8"
      }
    },
    {
      "cell_type": "code",
      "source": [
        "file = open(\"output.csv\",\"w\")\n",
        "file.write(\"date,item,price\\n\")\n",
        "file.write(\"2020-02-07,Milk,26.5\\n\")\n",
        "file.write(\"2020-02-08,Water,7\\n\")\n",
        "file.close"
      ],
      "metadata": {
        "colab": {
          "base_uri": "https://localhost:8080/"
        },
        "id": "lEhCPK-LMRyH",
        "outputId": "d8beb13e-9e8a-444e-a191-8abdf6ee5261"
      },
      "execution_count": null,
      "outputs": [
        {
          "output_type": "execute_result",
          "data": {
            "text/plain": [
              "<function TextIOWrapper.close()>"
            ]
          },
          "metadata": {},
          "execution_count": 77
        }
      ]
    },
    {
      "cell_type": "markdown",
      "source": [
        "การวนลูปเขียนไฟล์ จากlist ของtuple"
      ],
      "metadata": {
        "id": "0R55Qcl7ORmm"
      }
    },
    {
      "cell_type": "code",
      "source": [
        "header = (\"date\",\"item\",\"price\")\n",
        "\",\".join(header) + \"\\n\""
      ],
      "metadata": {
        "colab": {
          "base_uri": "https://localhost:8080/",
          "height": 36
        },
        "id": "_gEYS-mBNFMt",
        "outputId": "2df77a39-33d1-4a6c-df68-92b213e117cd"
      },
      "execution_count": null,
      "outputs": [
        {
          "output_type": "execute_result",
          "data": {
            "text/plain": [
              "'date,item,price\\n'"
            ],
            "application/vnd.google.colaboratory.intrinsic+json": {
              "type": "string"
            }
          },
          "metadata": {},
          "execution_count": 78
        }
      ]
    },
    {
      "cell_type": "code",
      "source": [
        "header = (\"date\",\"item\",\"price\")\n",
        "content = [\n",
        "    (\"2020-02-07\",\"Milk\",\"26.5\"),\n",
        "    (\"2020-02-08\",\"Water\",\"7\"),\n",
        "    (\"2020-02-08\",\"Mask\",\"20\"),\n",
        "    (\"2020-02-08\",\"Lays\",\"10\"),\n",
        "    (\"2020-02-08\",\"Rice\",\"6\"),\n",
        "]\n",
        "\n",
        "file = open('products.csv','w')\n",
        "file.write(\",\".join(header) + \"\\n\")\n",
        "\n",
        "for row in content:\n",
        "  file.write(\",\".join(row) + \"\\n\")\n",
        "\n",
        "file.close()"
      ],
      "metadata": {
        "id": "qvHYjHfONmWH"
      },
      "execution_count": null,
      "outputs": []
    },
    {
      "cell_type": "markdown",
      "source": [
        "การอ่านไฟล์ จะคล้ายคลึงกันกับ การเขียนไฟล์ตรงที่ต้อง open file เช่นกัน แตกต่างกันที่ mode"
      ],
      "metadata": {
        "id": "sesXKHunrTLU"
      }
    },
    {
      "cell_type": "code",
      "source": [
        "with open(\"products.csv\",\"r\")as f:\n",
        " product = f.readlines()\n",
        "\n",
        "product"
      ],
      "metadata": {
        "colab": {
          "base_uri": "https://localhost:8080/"
        },
        "id": "pjBwj2EpQd6G",
        "outputId": "0e0ce26d-3784-476e-db7c-3ffa896018c4"
      },
      "execution_count": null,
      "outputs": [
        {
          "output_type": "execute_result",
          "data": {
            "text/plain": [
              "['date,item,price\\n',\n",
              " '2020-02-07,Milk,26.5\\n',\n",
              " '2020-02-08,Water,7\\n',\n",
              " '2020-02-08,Mask,20\\n',\n",
              " '2020-02-08,Lays,10\\n',\n",
              " '2020-02-08,Rice,6\\n']"
            ]
          },
          "metadata": {},
          "execution_count": 80
        }
      ]
    },
    {
      "cell_type": "code",
      "source": [
        "len(product)"
      ],
      "metadata": {
        "colab": {
          "base_uri": "https://localhost:8080/"
        },
        "id": "CN8nbs3MSm5u",
        "outputId": "59ec40d4-dd71-41d4-d1f9-8afc59b0892c"
      },
      "execution_count": null,
      "outputs": [
        {
          "output_type": "execute_result",
          "data": {
            "text/plain": [
              "6"
            ]
          },
          "metadata": {},
          "execution_count": 117
        }
      ]
    },
    {
      "cell_type": "markdown",
      "source": [
        "# Use Pandas"
      ],
      "metadata": {
        "id": "B20GJhSoSube"
      }
    },
    {
      "cell_type": "markdown",
      "source": [
        "การอ่านไฟล์ CSV ด้วย Pandas (3rd party package) สำหรับการอ่านและประมวลผลไฟล์ของตาราง Dataframe\n",
        "\n",
        "Pandas เป็นที่นิยมใช้ในสาย data มาก เพราะสามารถช่วยให้วิเคราะห์และใช้งาน data ที่เป็น Pythonได้ง่ายขึ้น\n",
        "\n",
        "เนื่องจากเป็น package ที่ python ไม่มี จึงต้อง import ก่อนด้วย"
      ],
      "metadata": {
        "id": "Dx-velQzsDr8"
      }
    },
    {
      "cell_type": "code",
      "source": [
        "import pandas as pd\n",
        "\n",
        "df = pd.read_csv(\"sample_data/california_housing_test.csv\")\n",
        "df"
      ],
      "metadata": {
        "colab": {
          "base_uri": "https://localhost:8080/",
          "height": 443
        },
        "id": "OWynOQOjSz6e",
        "outputId": "ae75138d-e76d-43c5-b7af-48869b8f14af"
      },
      "execution_count": null,
      "outputs": [
        {
          "output_type": "execute_result",
          "data": {
            "text/plain": [
              "      longitude  latitude  housing_median_age  total_rooms  total_bedrooms  \\\n",
              "0       -122.05     37.37                27.0       3885.0           661.0   \n",
              "1       -118.30     34.26                43.0       1510.0           310.0   \n",
              "2       -117.81     33.78                27.0       3589.0           507.0   \n",
              "3       -118.36     33.82                28.0         67.0            15.0   \n",
              "4       -119.67     36.33                19.0       1241.0           244.0   \n",
              "...         ...       ...                 ...          ...             ...   \n",
              "2995    -119.86     34.42                23.0       1450.0           642.0   \n",
              "2996    -118.14     34.06                27.0       5257.0          1082.0   \n",
              "2997    -119.70     36.30                10.0        956.0           201.0   \n",
              "2998    -117.12     34.10                40.0         96.0            14.0   \n",
              "2999    -119.63     34.42                42.0       1765.0           263.0   \n",
              "\n",
              "      population  households  median_income  median_house_value  \n",
              "0         1537.0       606.0         6.6085            344700.0  \n",
              "1          809.0       277.0         3.5990            176500.0  \n",
              "2         1484.0       495.0         5.7934            270500.0  \n",
              "3           49.0        11.0         6.1359            330000.0  \n",
              "4          850.0       237.0         2.9375             81700.0  \n",
              "...          ...         ...            ...                 ...  \n",
              "2995      1258.0       607.0         1.1790            225000.0  \n",
              "2996      3496.0      1036.0         3.3906            237200.0  \n",
              "2997       693.0       220.0         2.2895             62000.0  \n",
              "2998        46.0        14.0         3.2708            162500.0  \n",
              "2999       753.0       260.0         8.5608            500001.0  \n",
              "\n",
              "[3000 rows x 9 columns]"
            ],
            "text/html": [
              "\n",
              "  <div id=\"df-fd615d05-4d0c-4dac-8d0e-59b5eee8601f\" class=\"colab-df-container\">\n",
              "    <div>\n",
              "<style scoped>\n",
              "    .dataframe tbody tr th:only-of-type {\n",
              "        vertical-align: middle;\n",
              "    }\n",
              "\n",
              "    .dataframe tbody tr th {\n",
              "        vertical-align: top;\n",
              "    }\n",
              "\n",
              "    .dataframe thead th {\n",
              "        text-align: right;\n",
              "    }\n",
              "</style>\n",
              "<table border=\"1\" class=\"dataframe\">\n",
              "  <thead>\n",
              "    <tr style=\"text-align: right;\">\n",
              "      <th></th>\n",
              "      <th>longitude</th>\n",
              "      <th>latitude</th>\n",
              "      <th>housing_median_age</th>\n",
              "      <th>total_rooms</th>\n",
              "      <th>total_bedrooms</th>\n",
              "      <th>population</th>\n",
              "      <th>households</th>\n",
              "      <th>median_income</th>\n",
              "      <th>median_house_value</th>\n",
              "    </tr>\n",
              "  </thead>\n",
              "  <tbody>\n",
              "    <tr>\n",
              "      <th>0</th>\n",
              "      <td>-122.05</td>\n",
              "      <td>37.37</td>\n",
              "      <td>27.0</td>\n",
              "      <td>3885.0</td>\n",
              "      <td>661.0</td>\n",
              "      <td>1537.0</td>\n",
              "      <td>606.0</td>\n",
              "      <td>6.6085</td>\n",
              "      <td>344700.0</td>\n",
              "    </tr>\n",
              "    <tr>\n",
              "      <th>1</th>\n",
              "      <td>-118.30</td>\n",
              "      <td>34.26</td>\n",
              "      <td>43.0</td>\n",
              "      <td>1510.0</td>\n",
              "      <td>310.0</td>\n",
              "      <td>809.0</td>\n",
              "      <td>277.0</td>\n",
              "      <td>3.5990</td>\n",
              "      <td>176500.0</td>\n",
              "    </tr>\n",
              "    <tr>\n",
              "      <th>2</th>\n",
              "      <td>-117.81</td>\n",
              "      <td>33.78</td>\n",
              "      <td>27.0</td>\n",
              "      <td>3589.0</td>\n",
              "      <td>507.0</td>\n",
              "      <td>1484.0</td>\n",
              "      <td>495.0</td>\n",
              "      <td>5.7934</td>\n",
              "      <td>270500.0</td>\n",
              "    </tr>\n",
              "    <tr>\n",
              "      <th>3</th>\n",
              "      <td>-118.36</td>\n",
              "      <td>33.82</td>\n",
              "      <td>28.0</td>\n",
              "      <td>67.0</td>\n",
              "      <td>15.0</td>\n",
              "      <td>49.0</td>\n",
              "      <td>11.0</td>\n",
              "      <td>6.1359</td>\n",
              "      <td>330000.0</td>\n",
              "    </tr>\n",
              "    <tr>\n",
              "      <th>4</th>\n",
              "      <td>-119.67</td>\n",
              "      <td>36.33</td>\n",
              "      <td>19.0</td>\n",
              "      <td>1241.0</td>\n",
              "      <td>244.0</td>\n",
              "      <td>850.0</td>\n",
              "      <td>237.0</td>\n",
              "      <td>2.9375</td>\n",
              "      <td>81700.0</td>\n",
              "    </tr>\n",
              "    <tr>\n",
              "      <th>...</th>\n",
              "      <td>...</td>\n",
              "      <td>...</td>\n",
              "      <td>...</td>\n",
              "      <td>...</td>\n",
              "      <td>...</td>\n",
              "      <td>...</td>\n",
              "      <td>...</td>\n",
              "      <td>...</td>\n",
              "      <td>...</td>\n",
              "    </tr>\n",
              "    <tr>\n",
              "      <th>2995</th>\n",
              "      <td>-119.86</td>\n",
              "      <td>34.42</td>\n",
              "      <td>23.0</td>\n",
              "      <td>1450.0</td>\n",
              "      <td>642.0</td>\n",
              "      <td>1258.0</td>\n",
              "      <td>607.0</td>\n",
              "      <td>1.1790</td>\n",
              "      <td>225000.0</td>\n",
              "    </tr>\n",
              "    <tr>\n",
              "      <th>2996</th>\n",
              "      <td>-118.14</td>\n",
              "      <td>34.06</td>\n",
              "      <td>27.0</td>\n",
              "      <td>5257.0</td>\n",
              "      <td>1082.0</td>\n",
              "      <td>3496.0</td>\n",
              "      <td>1036.0</td>\n",
              "      <td>3.3906</td>\n",
              "      <td>237200.0</td>\n",
              "    </tr>\n",
              "    <tr>\n",
              "      <th>2997</th>\n",
              "      <td>-119.70</td>\n",
              "      <td>36.30</td>\n",
              "      <td>10.0</td>\n",
              "      <td>956.0</td>\n",
              "      <td>201.0</td>\n",
              "      <td>693.0</td>\n",
              "      <td>220.0</td>\n",
              "      <td>2.2895</td>\n",
              "      <td>62000.0</td>\n",
              "    </tr>\n",
              "    <tr>\n",
              "      <th>2998</th>\n",
              "      <td>-117.12</td>\n",
              "      <td>34.10</td>\n",
              "      <td>40.0</td>\n",
              "      <td>96.0</td>\n",
              "      <td>14.0</td>\n",
              "      <td>46.0</td>\n",
              "      <td>14.0</td>\n",
              "      <td>3.2708</td>\n",
              "      <td>162500.0</td>\n",
              "    </tr>\n",
              "    <tr>\n",
              "      <th>2999</th>\n",
              "      <td>-119.63</td>\n",
              "      <td>34.42</td>\n",
              "      <td>42.0</td>\n",
              "      <td>1765.0</td>\n",
              "      <td>263.0</td>\n",
              "      <td>753.0</td>\n",
              "      <td>260.0</td>\n",
              "      <td>8.5608</td>\n",
              "      <td>500001.0</td>\n",
              "    </tr>\n",
              "  </tbody>\n",
              "</table>\n",
              "<p>3000 rows × 9 columns</p>\n",
              "</div>\n",
              "    <div class=\"colab-df-buttons\">\n",
              "\n",
              "  <div class=\"colab-df-container\">\n",
              "    <button class=\"colab-df-convert\" onclick=\"convertToInteractive('df-fd615d05-4d0c-4dac-8d0e-59b5eee8601f')\"\n",
              "            title=\"Convert this dataframe to an interactive table.\"\n",
              "            style=\"display:none;\">\n",
              "\n",
              "  <svg xmlns=\"http://www.w3.org/2000/svg\" height=\"24px\" viewBox=\"0 -960 960 960\">\n",
              "    <path d=\"M120-120v-720h720v720H120Zm60-500h600v-160H180v160Zm220 220h160v-160H400v160Zm0 220h160v-160H400v160ZM180-400h160v-160H180v160Zm440 0h160v-160H620v160ZM180-180h160v-160H180v160Zm440 0h160v-160H620v160Z\"/>\n",
              "  </svg>\n",
              "    </button>\n",
              "\n",
              "  <style>\n",
              "    .colab-df-container {\n",
              "      display:flex;\n",
              "      gap: 12px;\n",
              "    }\n",
              "\n",
              "    .colab-df-convert {\n",
              "      background-color: #E8F0FE;\n",
              "      border: none;\n",
              "      border-radius: 50%;\n",
              "      cursor: pointer;\n",
              "      display: none;\n",
              "      fill: #1967D2;\n",
              "      height: 32px;\n",
              "      padding: 0 0 0 0;\n",
              "      width: 32px;\n",
              "    }\n",
              "\n",
              "    .colab-df-convert:hover {\n",
              "      background-color: #E2EBFA;\n",
              "      box-shadow: 0px 1px 2px rgba(60, 64, 67, 0.3), 0px 1px 3px 1px rgba(60, 64, 67, 0.15);\n",
              "      fill: #174EA6;\n",
              "    }\n",
              "\n",
              "    .colab-df-buttons div {\n",
              "      margin-bottom: 4px;\n",
              "    }\n",
              "\n",
              "    [theme=dark] .colab-df-convert {\n",
              "      background-color: #3B4455;\n",
              "      fill: #D2E3FC;\n",
              "    }\n",
              "\n",
              "    [theme=dark] .colab-df-convert:hover {\n",
              "      background-color: #434B5C;\n",
              "      box-shadow: 0px 1px 3px 1px rgba(0, 0, 0, 0.15);\n",
              "      filter: drop-shadow(0px 1px 2px rgba(0, 0, 0, 0.3));\n",
              "      fill: #FFFFFF;\n",
              "    }\n",
              "  </style>\n",
              "\n",
              "    <script>\n",
              "      const buttonEl =\n",
              "        document.querySelector('#df-fd615d05-4d0c-4dac-8d0e-59b5eee8601f button.colab-df-convert');\n",
              "      buttonEl.style.display =\n",
              "        google.colab.kernel.accessAllowed ? 'block' : 'none';\n",
              "\n",
              "      async function convertToInteractive(key) {\n",
              "        const element = document.querySelector('#df-fd615d05-4d0c-4dac-8d0e-59b5eee8601f');\n",
              "        const dataTable =\n",
              "          await google.colab.kernel.invokeFunction('convertToInteractive',\n",
              "                                                    [key], {});\n",
              "        if (!dataTable) return;\n",
              "\n",
              "        const docLinkHtml = 'Like what you see? Visit the ' +\n",
              "          '<a target=\"_blank\" href=https://colab.research.google.com/notebooks/data_table.ipynb>data table notebook</a>'\n",
              "          + ' to learn more about interactive tables.';\n",
              "        element.innerHTML = '';\n",
              "        dataTable['output_type'] = 'display_data';\n",
              "        await google.colab.output.renderOutput(dataTable, element);\n",
              "        const docLink = document.createElement('div');\n",
              "        docLink.innerHTML = docLinkHtml;\n",
              "        element.appendChild(docLink);\n",
              "      }\n",
              "    </script>\n",
              "  </div>\n",
              "\n",
              "\n",
              "<div id=\"df-7b32b34d-dad5-4bf2-99ea-4183a89feba5\">\n",
              "  <button class=\"colab-df-quickchart\" onclick=\"quickchart('df-7b32b34d-dad5-4bf2-99ea-4183a89feba5')\"\n",
              "            title=\"Suggest charts\"\n",
              "            style=\"display:none;\">\n",
              "\n",
              "<svg xmlns=\"http://www.w3.org/2000/svg\" height=\"24px\"viewBox=\"0 0 24 24\"\n",
              "     width=\"24px\">\n",
              "    <g>\n",
              "        <path d=\"M19 3H5c-1.1 0-2 .9-2 2v14c0 1.1.9 2 2 2h14c1.1 0 2-.9 2-2V5c0-1.1-.9-2-2-2zM9 17H7v-7h2v7zm4 0h-2V7h2v10zm4 0h-2v-4h2v4z\"/>\n",
              "    </g>\n",
              "</svg>\n",
              "  </button>\n",
              "\n",
              "<style>\n",
              "  .colab-df-quickchart {\n",
              "      --bg-color: #E8F0FE;\n",
              "      --fill-color: #1967D2;\n",
              "      --hover-bg-color: #E2EBFA;\n",
              "      --hover-fill-color: #174EA6;\n",
              "      --disabled-fill-color: #AAA;\n",
              "      --disabled-bg-color: #DDD;\n",
              "  }\n",
              "\n",
              "  [theme=dark] .colab-df-quickchart {\n",
              "      --bg-color: #3B4455;\n",
              "      --fill-color: #D2E3FC;\n",
              "      --hover-bg-color: #434B5C;\n",
              "      --hover-fill-color: #FFFFFF;\n",
              "      --disabled-bg-color: #3B4455;\n",
              "      --disabled-fill-color: #666;\n",
              "  }\n",
              "\n",
              "  .colab-df-quickchart {\n",
              "    background-color: var(--bg-color);\n",
              "    border: none;\n",
              "    border-radius: 50%;\n",
              "    cursor: pointer;\n",
              "    display: none;\n",
              "    fill: var(--fill-color);\n",
              "    height: 32px;\n",
              "    padding: 0;\n",
              "    width: 32px;\n",
              "  }\n",
              "\n",
              "  .colab-df-quickchart:hover {\n",
              "    background-color: var(--hover-bg-color);\n",
              "    box-shadow: 0 1px 2px rgba(60, 64, 67, 0.3), 0 1px 3px 1px rgba(60, 64, 67, 0.15);\n",
              "    fill: var(--button-hover-fill-color);\n",
              "  }\n",
              "\n",
              "  .colab-df-quickchart-complete:disabled,\n",
              "  .colab-df-quickchart-complete:disabled:hover {\n",
              "    background-color: var(--disabled-bg-color);\n",
              "    fill: var(--disabled-fill-color);\n",
              "    box-shadow: none;\n",
              "  }\n",
              "\n",
              "  .colab-df-spinner {\n",
              "    border: 2px solid var(--fill-color);\n",
              "    border-color: transparent;\n",
              "    border-bottom-color: var(--fill-color);\n",
              "    animation:\n",
              "      spin 1s steps(1) infinite;\n",
              "  }\n",
              "\n",
              "  @keyframes spin {\n",
              "    0% {\n",
              "      border-color: transparent;\n",
              "      border-bottom-color: var(--fill-color);\n",
              "      border-left-color: var(--fill-color);\n",
              "    }\n",
              "    20% {\n",
              "      border-color: transparent;\n",
              "      border-left-color: var(--fill-color);\n",
              "      border-top-color: var(--fill-color);\n",
              "    }\n",
              "    30% {\n",
              "      border-color: transparent;\n",
              "      border-left-color: var(--fill-color);\n",
              "      border-top-color: var(--fill-color);\n",
              "      border-right-color: var(--fill-color);\n",
              "    }\n",
              "    40% {\n",
              "      border-color: transparent;\n",
              "      border-right-color: var(--fill-color);\n",
              "      border-top-color: var(--fill-color);\n",
              "    }\n",
              "    60% {\n",
              "      border-color: transparent;\n",
              "      border-right-color: var(--fill-color);\n",
              "    }\n",
              "    80% {\n",
              "      border-color: transparent;\n",
              "      border-right-color: var(--fill-color);\n",
              "      border-bottom-color: var(--fill-color);\n",
              "    }\n",
              "    90% {\n",
              "      border-color: transparent;\n",
              "      border-bottom-color: var(--fill-color);\n",
              "    }\n",
              "  }\n",
              "</style>\n",
              "\n",
              "  <script>\n",
              "    async function quickchart(key) {\n",
              "      const quickchartButtonEl =\n",
              "        document.querySelector('#' + key + ' button');\n",
              "      quickchartButtonEl.disabled = true;  // To prevent multiple clicks.\n",
              "      quickchartButtonEl.classList.add('colab-df-spinner');\n",
              "      try {\n",
              "        const charts = await google.colab.kernel.invokeFunction(\n",
              "            'suggestCharts', [key], {});\n",
              "      } catch (error) {\n",
              "        console.error('Error during call to suggestCharts:', error);\n",
              "      }\n",
              "      quickchartButtonEl.classList.remove('colab-df-spinner');\n",
              "      quickchartButtonEl.classList.add('colab-df-quickchart-complete');\n",
              "    }\n",
              "    (() => {\n",
              "      let quickchartButtonEl =\n",
              "        document.querySelector('#df-7b32b34d-dad5-4bf2-99ea-4183a89feba5 button');\n",
              "      quickchartButtonEl.style.display =\n",
              "        google.colab.kernel.accessAllowed ? 'block' : 'none';\n",
              "    })();\n",
              "  </script>\n",
              "</div>\n",
              "\n",
              "  <div id=\"id_e69d558f-5643-4596-abb7-61672d177ce1\">\n",
              "    <style>\n",
              "      .colab-df-generate {\n",
              "        background-color: #E8F0FE;\n",
              "        border: none;\n",
              "        border-radius: 50%;\n",
              "        cursor: pointer;\n",
              "        display: none;\n",
              "        fill: #1967D2;\n",
              "        height: 32px;\n",
              "        padding: 0 0 0 0;\n",
              "        width: 32px;\n",
              "      }\n",
              "\n",
              "      .colab-df-generate:hover {\n",
              "        background-color: #E2EBFA;\n",
              "        box-shadow: 0px 1px 2px rgba(60, 64, 67, 0.3), 0px 1px 3px 1px rgba(60, 64, 67, 0.15);\n",
              "        fill: #174EA6;\n",
              "      }\n",
              "\n",
              "      [theme=dark] .colab-df-generate {\n",
              "        background-color: #3B4455;\n",
              "        fill: #D2E3FC;\n",
              "      }\n",
              "\n",
              "      [theme=dark] .colab-df-generate:hover {\n",
              "        background-color: #434B5C;\n",
              "        box-shadow: 0px 1px 3px 1px rgba(0, 0, 0, 0.15);\n",
              "        filter: drop-shadow(0px 1px 2px rgba(0, 0, 0, 0.3));\n",
              "        fill: #FFFFFF;\n",
              "      }\n",
              "    </style>\n",
              "    <button class=\"colab-df-generate\" onclick=\"generateWithVariable('df')\"\n",
              "            title=\"Generate code using this dataframe.\"\n",
              "            style=\"display:none;\">\n",
              "\n",
              "  <svg xmlns=\"http://www.w3.org/2000/svg\" height=\"24px\"viewBox=\"0 0 24 24\"\n",
              "       width=\"24px\">\n",
              "    <path d=\"M7,19H8.4L18.45,9,17,7.55,7,17.6ZM5,21V16.75L18.45,3.32a2,2,0,0,1,2.83,0l1.4,1.43a1.91,1.91,0,0,1,.58,1.4,1.91,1.91,0,0,1-.58,1.4L9.25,21ZM18.45,9,17,7.55Zm-12,3A5.31,5.31,0,0,0,4.9,8.1,5.31,5.31,0,0,0,1,6.5,5.31,5.31,0,0,0,4.9,4.9,5.31,5.31,0,0,0,6.5,1,5.31,5.31,0,0,0,8.1,4.9,5.31,5.31,0,0,0,12,6.5,5.46,5.46,0,0,0,6.5,12Z\"/>\n",
              "  </svg>\n",
              "    </button>\n",
              "    <script>\n",
              "      (() => {\n",
              "      const buttonEl =\n",
              "        document.querySelector('#id_e69d558f-5643-4596-abb7-61672d177ce1 button.colab-df-generate');\n",
              "      buttonEl.style.display =\n",
              "        google.colab.kernel.accessAllowed ? 'block' : 'none';\n",
              "\n",
              "      buttonEl.onclick = () => {\n",
              "        google.colab.notebook.generateWithVariable('df');\n",
              "      }\n",
              "      })();\n",
              "    </script>\n",
              "  </div>\n",
              "\n",
              "    </div>\n",
              "  </div>\n"
            ],
            "application/vnd.google.colaboratory.intrinsic+json": {
              "type": "dataframe",
              "variable_name": "df",
              "summary": "{\n  \"name\": \"df\",\n  \"rows\": 3000,\n  \"fields\": [\n    {\n      \"column\": \"longitude\",\n      \"properties\": {\n        \"dtype\": \"number\",\n        \"std\": 1.9949362939550161,\n        \"min\": -124.18,\n        \"max\": -114.49,\n        \"num_unique_values\": 607,\n        \"samples\": [\n          -121.15,\n          -121.46,\n          -121.02\n        ],\n        \"semantic_type\": \"\",\n        \"description\": \"\"\n      }\n    },\n    {\n      \"column\": \"latitude\",\n      \"properties\": {\n        \"dtype\": \"number\",\n        \"std\": 2.1296695233438325,\n        \"min\": 32.56,\n        \"max\": 41.92,\n        \"num_unique_values\": 587,\n        \"samples\": [\n          40.17,\n          33.69,\n          39.61\n        ],\n        \"semantic_type\": \"\",\n        \"description\": \"\"\n      }\n    },\n    {\n      \"column\": \"housing_median_age\",\n      \"properties\": {\n        \"dtype\": \"number\",\n        \"std\": 12.555395554955755,\n        \"min\": 1.0,\n        \"max\": 52.0,\n        \"num_unique_values\": 52,\n        \"samples\": [\n          14.0,\n          49.0,\n          7.0\n        ],\n        \"semantic_type\": \"\",\n        \"description\": \"\"\n      }\n    },\n    {\n      \"column\": \"total_rooms\",\n      \"properties\": {\n        \"dtype\": \"number\",\n        \"std\": 2155.59333162558,\n        \"min\": 6.0,\n        \"max\": 30450.0,\n        \"num_unique_values\": 2215,\n        \"samples\": [\n          1961.0,\n          1807.0,\n          680.0\n        ],\n        \"semantic_type\": \"\",\n        \"description\": \"\"\n      }\n    },\n    {\n      \"column\": \"total_bedrooms\",\n      \"properties\": {\n        \"dtype\": \"number\",\n        \"std\": 415.6543681363232,\n        \"min\": 2.0,\n        \"max\": 5419.0,\n        \"num_unique_values\": 1055,\n        \"samples\": [\n          532.0,\n          764.0,\n          2162.0\n        ],\n        \"semantic_type\": \"\",\n        \"description\": \"\"\n      }\n    },\n    {\n      \"column\": \"population\",\n      \"properties\": {\n        \"dtype\": \"number\",\n        \"std\": 1030.5430124122422,\n        \"min\": 5.0,\n        \"max\": 11935.0,\n        \"num_unique_values\": 1802,\n        \"samples\": [\n          947.0,\n          1140.0,\n          2019.0\n        ],\n        \"semantic_type\": \"\",\n        \"description\": \"\"\n      }\n    },\n    {\n      \"column\": \"households\",\n      \"properties\": {\n        \"dtype\": \"number\",\n        \"std\": 365.42270980552604,\n        \"min\": 2.0,\n        \"max\": 4930.0,\n        \"num_unique_values\": 1026,\n        \"samples\": [\n          646.0,\n          629.0,\n          504.0\n        ],\n        \"semantic_type\": \"\",\n        \"description\": \"\"\n      }\n    },\n    {\n      \"column\": \"median_income\",\n      \"properties\": {\n        \"dtype\": \"number\",\n        \"std\": 1.854511729691481,\n        \"min\": 0.4999,\n        \"max\": 15.0001,\n        \"num_unique_values\": 2578,\n        \"samples\": [\n          1.725,\n          0.7403,\n          2.6964\n        ],\n        \"semantic_type\": \"\",\n        \"description\": \"\"\n      }\n    },\n    {\n      \"column\": \"median_house_value\",\n      \"properties\": {\n        \"dtype\": \"number\",\n        \"std\": 113119.68746964433,\n        \"min\": 22500.0,\n        \"max\": 500001.0,\n        \"num_unique_values\": 1784,\n        \"samples\": [\n          71900.0,\n          63000.0,\n          115800.0\n        ],\n        \"semantic_type\": \"\",\n        \"description\": \"\"\n      }\n    }\n  ]\n}"
            }
          },
          "metadata": {},
          "execution_count": 81
        }
      ]
    },
    {
      "cell_type": "code",
      "source": [
        "type(df)"
      ],
      "metadata": {
        "colab": {
          "base_uri": "https://localhost:8080/",
          "height": 203
        },
        "id": "NtAqT0CuUIwv",
        "outputId": "d7dbf989-ed48-4e16-b1f0-19fef801d058"
      },
      "execution_count": null,
      "outputs": [
        {
          "output_type": "execute_result",
          "data": {
            "text/plain": [
              "pandas.core.frame.DataFrame"
            ],
            "text/html": [
              "<div style=\"max-width:800px; border: 1px solid var(--colab-border-color);\"><style>\n",
              "      pre.function-repr-contents {\n",
              "        overflow-x: auto;\n",
              "        padding: 8px 12px;\n",
              "        max-height: 500px;\n",
              "      }\n",
              "\n",
              "      pre.function-repr-contents.function-repr-contents-collapsed {\n",
              "        cursor: pointer;\n",
              "        max-height: 100px;\n",
              "      }\n",
              "    </style>\n",
              "    <pre style=\"white-space: initial; background:\n",
              "         var(--colab-secondary-surface-color); padding: 8px 12px;\n",
              "         border-bottom: 1px solid var(--colab-border-color);\"><b>pandas.core.frame.DataFrame</b><br/>def __init__(data=None, index: Axes | None=None, columns: Axes | None=None, dtype: Dtype | None=None, copy: bool | None=None) -&gt; None</pre><pre class=\"function-repr-contents function-repr-contents-collapsed\" style=\"\"><a class=\"filepath\" style=\"display:none\" href=\"#\">/usr/local/lib/python3.11/dist-packages/pandas/core/frame.py</a>Two-dimensional, size-mutable, potentially heterogeneous tabular data.\n",
              "\n",
              "Data structure also contains labeled axes (rows and columns).\n",
              "Arithmetic operations align on both row and column labels. Can be\n",
              "thought of as a dict-like container for Series objects. The primary\n",
              "pandas data structure.\n",
              "\n",
              "Parameters\n",
              "----------\n",
              "data : ndarray (structured or homogeneous), Iterable, dict, or DataFrame\n",
              "    Dict can contain Series, arrays, constants, dataclass or list-like objects. If\n",
              "    data is a dict, column order follows insertion-order. If a dict contains Series\n",
              "    which have an index defined, it is aligned by its index. This alignment also\n",
              "    occurs if data is a Series or a DataFrame itself. Alignment is done on\n",
              "    Series/DataFrame inputs.\n",
              "\n",
              "    If data is a list of dicts, column order follows insertion-order.\n",
              "\n",
              "index : Index or array-like\n",
              "    Index to use for resulting frame. Will default to RangeIndex if\n",
              "    no indexing information part of input data and no index provided.\n",
              "columns : Index or array-like\n",
              "    Column labels to use for resulting frame when data does not have them,\n",
              "    defaulting to RangeIndex(0, 1, 2, ..., n). If data contains column labels,\n",
              "    will perform column selection instead.\n",
              "dtype : dtype, default None\n",
              "    Data type to force. Only a single dtype is allowed. If None, infer.\n",
              "copy : bool or None, default None\n",
              "    Copy data from inputs.\n",
              "    For dict data, the default of None behaves like ``copy=True``.  For DataFrame\n",
              "    or 2d ndarray input, the default of None behaves like ``copy=False``.\n",
              "    If data is a dict containing one or more Series (possibly of different dtypes),\n",
              "    ``copy=False`` will ensure that these inputs are not copied.\n",
              "\n",
              "    .. versionchanged:: 1.3.0\n",
              "\n",
              "See Also\n",
              "--------\n",
              "DataFrame.from_records : Constructor from tuples, also record arrays.\n",
              "DataFrame.from_dict : From dicts of Series, arrays, or dicts.\n",
              "read_csv : Read a comma-separated values (csv) file into DataFrame.\n",
              "read_table : Read general delimited file into DataFrame.\n",
              "read_clipboard : Read text from clipboard into DataFrame.\n",
              "\n",
              "Notes\n",
              "-----\n",
              "Please reference the :ref:`User Guide &lt;basics.dataframe&gt;` for more information.\n",
              "\n",
              "Examples\n",
              "--------\n",
              "Constructing DataFrame from a dictionary.\n",
              "\n",
              "&gt;&gt;&gt; d = {&#x27;col1&#x27;: [1, 2], &#x27;col2&#x27;: [3, 4]}\n",
              "&gt;&gt;&gt; df = pd.DataFrame(data=d)\n",
              "&gt;&gt;&gt; df\n",
              "   col1  col2\n",
              "0     1     3\n",
              "1     2     4\n",
              "\n",
              "Notice that the inferred dtype is int64.\n",
              "\n",
              "&gt;&gt;&gt; df.dtypes\n",
              "col1    int64\n",
              "col2    int64\n",
              "dtype: object\n",
              "\n",
              "To enforce a single dtype:\n",
              "\n",
              "&gt;&gt;&gt; df = pd.DataFrame(data=d, dtype=np.int8)\n",
              "&gt;&gt;&gt; df.dtypes\n",
              "col1    int8\n",
              "col2    int8\n",
              "dtype: object\n",
              "\n",
              "Constructing DataFrame from a dictionary including Series:\n",
              "\n",
              "&gt;&gt;&gt; d = {&#x27;col1&#x27;: [0, 1, 2, 3], &#x27;col2&#x27;: pd.Series([2, 3], index=[2, 3])}\n",
              "&gt;&gt;&gt; pd.DataFrame(data=d, index=[0, 1, 2, 3])\n",
              "   col1  col2\n",
              "0     0   NaN\n",
              "1     1   NaN\n",
              "2     2   2.0\n",
              "3     3   3.0\n",
              "\n",
              "Constructing DataFrame from numpy ndarray:\n",
              "\n",
              "&gt;&gt;&gt; df2 = pd.DataFrame(np.array([[1, 2, 3], [4, 5, 6], [7, 8, 9]]),\n",
              "...                    columns=[&#x27;a&#x27;, &#x27;b&#x27;, &#x27;c&#x27;])\n",
              "&gt;&gt;&gt; df2\n",
              "   a  b  c\n",
              "0  1  2  3\n",
              "1  4  5  6\n",
              "2  7  8  9\n",
              "\n",
              "Constructing DataFrame from a numpy ndarray that has labeled columns:\n",
              "\n",
              "&gt;&gt;&gt; data = np.array([(1, 2, 3), (4, 5, 6), (7, 8, 9)],\n",
              "...                 dtype=[(&quot;a&quot;, &quot;i4&quot;), (&quot;b&quot;, &quot;i4&quot;), (&quot;c&quot;, &quot;i4&quot;)])\n",
              "&gt;&gt;&gt; df3 = pd.DataFrame(data, columns=[&#x27;c&#x27;, &#x27;a&#x27;])\n",
              "...\n",
              "&gt;&gt;&gt; df3\n",
              "   c  a\n",
              "0  3  1\n",
              "1  6  4\n",
              "2  9  7\n",
              "\n",
              "Constructing DataFrame from dataclass:\n",
              "\n",
              "&gt;&gt;&gt; from dataclasses import make_dataclass\n",
              "&gt;&gt;&gt; Point = make_dataclass(&quot;Point&quot;, [(&quot;x&quot;, int), (&quot;y&quot;, int)])\n",
              "&gt;&gt;&gt; pd.DataFrame([Point(0, 0), Point(0, 3), Point(2, 3)])\n",
              "   x  y\n",
              "0  0  0\n",
              "1  0  3\n",
              "2  2  3\n",
              "\n",
              "Constructing DataFrame from Series/DataFrame:\n",
              "\n",
              "&gt;&gt;&gt; ser = pd.Series([1, 2, 3], index=[&quot;a&quot;, &quot;b&quot;, &quot;c&quot;])\n",
              "&gt;&gt;&gt; df = pd.DataFrame(data=ser, index=[&quot;a&quot;, &quot;c&quot;])\n",
              "&gt;&gt;&gt; df\n",
              "   0\n",
              "a  1\n",
              "c  3\n",
              "\n",
              "&gt;&gt;&gt; df1 = pd.DataFrame([1, 2, 3], index=[&quot;a&quot;, &quot;b&quot;, &quot;c&quot;], columns=[&quot;x&quot;])\n",
              "&gt;&gt;&gt; df2 = pd.DataFrame(data=df1, index=[&quot;a&quot;, &quot;c&quot;])\n",
              "&gt;&gt;&gt; df2\n",
              "   x\n",
              "a  1\n",
              "c  3</pre>\n",
              "      <script>\n",
              "      if (google.colab.kernel.accessAllowed && google.colab.files && google.colab.files.view) {\n",
              "        for (const element of document.querySelectorAll('.filepath')) {\n",
              "          element.style.display = 'block'\n",
              "          element.onclick = (event) => {\n",
              "            event.preventDefault();\n",
              "            event.stopPropagation();\n",
              "            google.colab.files.view(element.textContent, 509);\n",
              "          };\n",
              "        }\n",
              "      }\n",
              "      for (const element of document.querySelectorAll('.function-repr-contents')) {\n",
              "        element.onclick = (event) => {\n",
              "          event.preventDefault();\n",
              "          event.stopPropagation();\n",
              "          element.classList.toggle('function-repr-contents-collapsed');\n",
              "        };\n",
              "      }\n",
              "      </script>\n",
              "      </div>"
            ]
          },
          "metadata": {},
          "execution_count": 119
        }
      ]
    },
    {
      "cell_type": "markdown",
      "source": [
        "เซฟไฟล์ CSV จาก DataFrame"
      ],
      "metadata": {
        "id": "3sBimPDlst8l"
      }
    },
    {
      "cell_type": "code",
      "source": [
        "df.to_csv(\"new_data.csv\")"
      ],
      "metadata": {
        "id": "F-pdmrvFUNUe"
      },
      "execution_count": null,
      "outputs": []
    },
    {
      "cell_type": "markdown",
      "source": [
        "# JSON"
      ],
      "metadata": {
        "id": "1aDtdzzIUVmn"
      }
    },
    {
      "cell_type": "markdown",
      "source": [
        "ดับเบิลคลิก (หรือกด Enter) เพื่อแก้ไข\n",
        "\n",
        "JSON dump = export JSON"
      ],
      "metadata": {
        "id": "IJz1QTZtU0CH"
      }
    },
    {
      "cell_type": "code",
      "source": [
        "grade"
      ],
      "metadata": {
        "colab": {
          "base_uri": "https://localhost:8080/"
        },
        "id": "rduZjNsHUYVW",
        "outputId": "b5b6bcb7-26f1-4b40-d697-e063276ae1fe"
      },
      "execution_count": null,
      "outputs": [
        {
          "output_type": "execute_result",
          "data": {
            "text/plain": [
              "{'A': 80, 'B': 70, 'C': 60, 'D': 50}"
            ]
          },
          "metadata": {},
          "execution_count": 121
        }
      ]
    },
    {
      "cell_type": "code",
      "source": [
        "import json\n",
        "json.dumps(grade)"
      ],
      "metadata": {
        "colab": {
          "base_uri": "https://localhost:8080/",
          "height": 36
        },
        "id": "3Ax3Jik1VsA2",
        "outputId": "201b9f6a-f3d1-497b-a687-6f58d0b0b92c"
      },
      "execution_count": null,
      "outputs": [
        {
          "output_type": "execute_result",
          "data": {
            "text/plain": [
              "'{\"A\": 80, \"B\": 70, \"C\": 60, \"D\": 50}'"
            ],
            "application/vnd.google.colaboratory.intrinsic+json": {
              "type": "string"
            }
          },
          "metadata": {},
          "execution_count": 122
        }
      ]
    },
    {
      "cell_type": "code",
      "source": [
        "type(json.dumps(grade))"
      ],
      "metadata": {
        "colab": {
          "base_uri": "https://localhost:8080/"
        },
        "id": "KZwR4S9HVxv_",
        "outputId": "a9514116-6241-4859-a6c2-adf8d360f2a6"
      },
      "execution_count": null,
      "outputs": [
        {
          "output_type": "execute_result",
          "data": {
            "text/plain": [
              "str"
            ]
          },
          "metadata": {},
          "execution_count": 124
        }
      ]
    },
    {
      "cell_type": "code",
      "source": [
        "# Save to output file grade.json\n",
        "json.dump(grade, open(\"grade.json\", \"w\"))"
      ],
      "metadata": {
        "id": "2p5K10HhV6dW"
      },
      "execution_count": null,
      "outputs": []
    },
    {
      "cell_type": "markdown",
      "source": [
        "### JSON load = import JSON"
      ],
      "metadata": {
        "id": "FSmKVdslWsp2"
      }
    },
    {
      "cell_type": "code",
      "source": [
        "students = json.loads('{\"student1\":\"Perth\", \"student2\": \"Fon\"}')\n",
        "students"
      ],
      "metadata": {
        "colab": {
          "base_uri": "https://localhost:8080/"
        },
        "id": "JBGyphWQWQ2O",
        "outputId": "f96ddb61-1d05-4071-f8d2-48a26f97450b"
      },
      "execution_count": null,
      "outputs": [
        {
          "output_type": "execute_result",
          "data": {
            "text/plain": [
              "{'student1': 'Perth', 'student2': 'Fon'}"
            ]
          },
          "metadata": {},
          "execution_count": 126
        }
      ]
    },
    {
      "cell_type": "code",
      "source": [
        "type(students)"
      ],
      "metadata": {
        "id": "cG2ME0XSXHlf",
        "outputId": "9b38b64a-bc8f-4bc1-ee81-af939bfd42f2",
        "colab": {
          "base_uri": "https://localhost:8080/"
        }
      },
      "execution_count": null,
      "outputs": [
        {
          "output_type": "execute_result",
          "data": {
            "text/plain": [
              "dict"
            ]
          },
          "metadata": {},
          "execution_count": 127
        }
      ]
    }
  ]
}